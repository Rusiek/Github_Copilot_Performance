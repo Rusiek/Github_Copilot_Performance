{
 "cells": [
  {
   "cell_type": "code",
   "execution_count": 1,
   "metadata": {},
   "outputs": [
    {
     "data": {
      "text/html": [
       "<div>\n",
       "<style scoped>\n",
       "    .dataframe tbody tr th:only-of-type {\n",
       "        vertical-align: middle;\n",
       "    }\n",
       "\n",
       "    .dataframe tbody tr th {\n",
       "        vertical-align: top;\n",
       "    }\n",
       "\n",
       "    .dataframe thead th {\n",
       "        text-align: right;\n",
       "    }\n",
       "</style>\n",
       "<table border=\"1\" class=\"dataframe\">\n",
       "  <thead>\n",
       "    <tr style=\"text-align: right;\">\n",
       "      <th></th>\n",
       "      <th>CryoSleep</th>\n",
       "      <th>Age</th>\n",
       "      <th>VIP</th>\n",
       "      <th>RoomService</th>\n",
       "      <th>FoodCourt</th>\n",
       "      <th>ShoppingMall</th>\n",
       "      <th>Spa</th>\n",
       "      <th>VRDeck</th>\n",
       "      <th>Transported</th>\n",
       "    </tr>\n",
       "  </thead>\n",
       "  <tbody>\n",
       "    <tr>\n",
       "      <th>0</th>\n",
       "      <td>0</td>\n",
       "      <td>0.709396</td>\n",
       "      <td>0</td>\n",
       "      <td>-0.340570</td>\n",
       "      <td>-0.287298</td>\n",
       "      <td>-0.290800</td>\n",
       "      <td>-0.276648</td>\n",
       "      <td>-0.269007</td>\n",
       "      <td>False</td>\n",
       "    </tr>\n",
       "    <tr>\n",
       "      <th>1</th>\n",
       "      <td>0</td>\n",
       "      <td>-0.336698</td>\n",
       "      <td>0</td>\n",
       "      <td>-0.175354</td>\n",
       "      <td>-0.281653</td>\n",
       "      <td>-0.248954</td>\n",
       "      <td>0.211493</td>\n",
       "      <td>-0.230181</td>\n",
       "      <td>True</td>\n",
       "    </tr>\n",
       "    <tr>\n",
       "      <th>2</th>\n",
       "      <td>0</td>\n",
       "      <td>2.034449</td>\n",
       "      <td>0</td>\n",
       "      <td>-0.275393</td>\n",
       "      <td>1.955503</td>\n",
       "      <td>-0.290800</td>\n",
       "      <td>5.693962</td>\n",
       "      <td>-0.225769</td>\n",
       "      <td>False</td>\n",
       "    </tr>\n",
       "    <tr>\n",
       "      <th>3</th>\n",
       "      <td>0</td>\n",
       "      <td>0.290958</td>\n",
       "      <td>0</td>\n",
       "      <td>-0.340570</td>\n",
       "      <td>0.517376</td>\n",
       "      <td>0.330206</td>\n",
       "      <td>2.683316</td>\n",
       "      <td>-0.098702</td>\n",
       "      <td>False</td>\n",
       "    </tr>\n",
       "    <tr>\n",
       "      <th>4</th>\n",
       "      <td>0</td>\n",
       "      <td>-0.894615</td>\n",
       "      <td>0</td>\n",
       "      <td>0.118702</td>\n",
       "      <td>-0.243395</td>\n",
       "      <td>-0.038046</td>\n",
       "      <td>0.225719</td>\n",
       "      <td>-0.267242</td>\n",
       "      <td>True</td>\n",
       "    </tr>\n",
       "  </tbody>\n",
       "</table>\n",
       "</div>"
      ],
      "text/plain": [
       "   CryoSleep       Age  VIP  RoomService  FoodCourt  ShoppingMall       Spa  \\\n",
       "0          0  0.709396    0    -0.340570  -0.287298     -0.290800 -0.276648   \n",
       "1          0 -0.336698    0    -0.175354  -0.281653     -0.248954  0.211493   \n",
       "2          0  2.034449    0    -0.275393   1.955503     -0.290800  5.693962   \n",
       "3          0  0.290958    0    -0.340570   0.517376      0.330206  2.683316   \n",
       "4          0 -0.894615    0     0.118702  -0.243395     -0.038046  0.225719   \n",
       "\n",
       "     VRDeck  Transported  \n",
       "0 -0.269007        False  \n",
       "1 -0.230181         True  \n",
       "2 -0.225769        False  \n",
       "3 -0.098702        False  \n",
       "4 -0.267242         True  "
      ]
     },
     "execution_count": 1,
     "metadata": {},
     "output_type": "execute_result"
    }
   ],
   "source": [
    "import pandas as pd\n",
    "from sklearn.model_selection import GridSearchCV\n",
    "from sklearn.svm import SVC\n",
    "\n",
    "df_train = pd.read_csv('train_clean.csv')\n",
    "df_train.head()\n"
   ]
  },
  {
   "cell_type": "code",
   "execution_count": 2,
   "metadata": {},
   "outputs": [
    {
     "data": {
      "text/plain": [
       "GridSearchCV(estimator=SVC(),\n",
       "             param_grid={'C': [1, 3, 5, 7],\n",
       "                         'kernel': ['linear', 'rbf', 'poly', 'sigmoid']})"
      ]
     },
     "execution_count": 2,
     "metadata": {},
     "output_type": "execute_result"
    }
   ],
   "source": [
    "gs = GridSearchCV(\n",
    "    estimator=SVC(),\n",
    "    param_grid={\n",
    "        'C': [1, 3, 5, 7],\n",
    "        'kernel': ['linear', 'rbf', 'poly', 'sigmoid']\n",
    "    }\n",
    ")\n",
    "\n",
    "gs.fit(df_train.drop('Transported', axis=1), df_train['Transported'])"
   ]
  },
  {
   "cell_type": "code",
   "execution_count": 3,
   "metadata": {},
   "outputs": [],
   "source": [
    "df_test = pd.read_csv('test_clean.csv')\n",
    "df_test['Transported'] = gs.predict(df_test.drop(['PassengerId'], axis=1))\n",
    "df_test.drop(['CryoSleep', 'Age', 'VIP', 'RoomService', 'FoodCourt', 'ShoppingMall', 'Spa', 'VRDeck'], axis=1, inplace=True)\n",
    "df_test.to_csv('test_predictions.csv', index=False)"
   ]
  }
 ],
 "metadata": {
  "kernelspec": {
   "display_name": "Python 3.9.13 64-bit (microsoft store)",
   "language": "python",
   "name": "python3"
  },
  "language_info": {
   "codemirror_mode": {
    "name": "ipython",
    "version": 3
   },
   "file_extension": ".py",
   "mimetype": "text/x-python",
   "name": "python",
   "nbconvert_exporter": "python",
   "pygments_lexer": "ipython3",
   "version": "3.9.13"
  },
  "orig_nbformat": 4,
  "vscode": {
   "interpreter": {
    "hash": "e8c1efcc6e7464f848b84063e3e2762d1cc49d9fb4c0cb595c7d6c50a2cc146a"
   }
  }
 },
 "nbformat": 4,
 "nbformat_minor": 2
}
